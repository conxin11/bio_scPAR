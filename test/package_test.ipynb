{
 "cells": [
  {
   "cell_type": "code",
   "execution_count": 1,
   "id": "initial_id",
   "metadata": {
    "collapsed": true,
    "ExecuteTime": {
     "end_time": "2024-12-29T01:31:32.459899Z",
     "start_time": "2024-12-29T01:31:28.067822Z"
    }
   },
   "outputs": [
    {
     "name": "stderr",
     "output_type": "stream",
     "text": [
      "2024-12-29 09:31:28.670080: I tensorflow/core/util/port.cc:110] oneDNN custom operations are on. You may see slightly different numerical results due to floating-point round-off errors from different computation orders. To turn them off, set the environment variable `TF_ENABLE_ONEDNN_OPTS=0`.\n",
      "2024-12-29 09:31:28.914373: I tensorflow/core/platform/cpu_feature_guard.cc:182] This TensorFlow binary is optimized to use available CPU instructions in performance-critical operations.\n",
      "To enable the following instructions: AVX2 AVX_VNNI FMA, in other operations, rebuild TensorFlow with the appropriate compiler flags.\n",
      "2024-12-29 09:31:29.505224: W tensorflow/compiler/tf2tensorrt/utils/py_utils.cc:38] TF-TRT Warning: Could not find TensorRT\n"
     ]
    }
   ],
   "source": [
    "# 首先导入各种包\n",
    "import tensorflow as tf\n",
    "import scanpy as sc\n",
    "import anndata as ad\n",
    "import os\n",
    "import scipy\n",
    "import gseapy as gp\n",
    "import networkx as nx\n"
   ]
  },
  {
   "cell_type": "code",
   "outputs": [
    {
     "data": {
      "text/plain": "'2.13.0'"
     },
     "execution_count": 2,
     "metadata": {},
     "output_type": "execute_result"
    }
   ],
   "source": [
    "tf.__version__"
   ],
   "metadata": {
    "collapsed": false,
    "ExecuteTime": {
     "end_time": "2024-12-29T01:32:14.112613Z",
     "start_time": "2024-12-29T01:32:14.101105Z"
    }
   },
   "id": "6727106c6e1442e4",
   "execution_count": 2
  },
  {
   "cell_type": "code",
   "outputs": [
    {
     "name": "stdout",
     "output_type": "stream",
     "text": [
      "TensorFlow version: 2.13.0\n",
      "WARNING:tensorflow:From /tmp/ipykernel_814176/907260046.py:7: is_gpu_available (from tensorflow.python.framework.test_util) is deprecated and will be removed in a future version.\n",
      "Instructions for updating:\n",
      "Use `tf.config.list_physical_devices('GPU')` instead.\n",
      "Is GPU available: False\n"
     ]
    },
    {
     "name": "stderr",
     "output_type": "stream",
     "text": [
      "2024-12-29 09:32:16.078225: E tensorflow/compiler/xla/stream_executor/cuda/cuda_driver.cc:268] failed call to cuInit: CUDA_ERROR_UNKNOWN: unknown error\n",
      "2024-12-29 09:32:16.078441: I tensorflow/compiler/xla/stream_executor/cuda/cuda_diagnostics.cc:168] retrieving CUDA diagnostic information for host: ps\n",
      "2024-12-29 09:32:16.078455: I tensorflow/compiler/xla/stream_executor/cuda/cuda_diagnostics.cc:175] hostname: ps\n",
      "2024-12-29 09:32:16.078655: I tensorflow/compiler/xla/stream_executor/cuda/cuda_diagnostics.cc:199] libcuda reported version is: 550.107.2\n",
      "2024-12-29 09:32:16.078686: I tensorflow/compiler/xla/stream_executor/cuda/cuda_diagnostics.cc:203] kernel reported version is: 550.107.2\n",
      "2024-12-29 09:32:16.078694: I tensorflow/compiler/xla/stream_executor/cuda/cuda_diagnostics.cc:309] kernel version seems to match DSO: 550.107.2\n"
     ]
    }
   ],
   "source": [
    "import tensorflow as tf\n",
    " \n",
    "# 检查TensorFlow版本\n",
    "print(\"TensorFlow version:\", tf.__version__)\n",
    " \n",
    "# 检查GPU是否可用\n",
    "print(\"Is GPU available:\", tf.test.is_gpu_available())\n",
    " \n",
    "# 获取GPU信息\n",
    "if tf.test.is_gpu_available():\n",
    "    gpu_devices = tf.config.list_physical_devices('GPU')\n",
    "    print(\"GPU devices:\", gpu_devices)\n",
    "    for device in gpu_devices:\n",
    "        print(\"Name:\", device.name)\n",
    "        print(\"Device type:\", device.device_type)\n",
    "        print(\"Memory limit:\", tf.config.experimental.get_memory_limit(device))\n",
    "        print(\"\\n\")"
   ],
   "metadata": {
    "collapsed": false,
    "ExecuteTime": {
     "end_time": "2024-12-29T01:32:16.082470Z",
     "start_time": "2024-12-29T01:32:16.021589Z"
    }
   },
   "id": "fe7df533cea56da7",
   "execution_count": 3
  },
  {
   "cell_type": "code",
   "outputs": [],
   "source": [],
   "metadata": {
    "collapsed": false
   },
   "id": "977c1bed56cd6a45"
  },
  {
   "cell_type": "code",
   "outputs": [
    {
     "name": "stdout",
     "output_type": "stream",
     "text": [
      "/mnt/sda/liuyq/asso_rule2/test\n"
     ]
    }
   ],
   "source": [
    "current_directory = os.getcwd()\n",
    "print(current_directory)"
   ],
   "metadata": {
    "collapsed": false,
    "ExecuteTime": {
     "end_time": "2024-09-16T04:26:20.260862Z",
     "start_time": "2024-09-16T04:26:20.254834Z"
    }
   },
   "id": "326325716602fe03",
   "execution_count": 5
  },
  {
   "cell_type": "code",
   "outputs": [],
   "source": [
    "import pandas as pd\n",
    "import numpy as np\n",
    "import gseapy as gp"
   ],
   "metadata": {
    "collapsed": false,
    "ExecuteTime": {
     "end_time": "2024-12-29T01:34:04.618924Z",
     "start_time": "2024-12-29T01:34:04.613721Z"
    }
   },
   "id": "b89850fa0ad291d0",
   "execution_count": 4
  },
  {
   "cell_type": "code",
   "outputs": [],
   "source": [
    "# 将包放入列表当中\n",
    "pkg_list =[\n",
    "    tf, sc, ad, scipy, gp, nx, pd, np\n",
    "]"
   ],
   "metadata": {
    "collapsed": false,
    "ExecuteTime": {
     "end_time": "2024-12-29T01:34:06.774233Z",
     "start_time": "2024-12-29T01:34:06.769121Z"
    }
   },
   "id": "883d1594dbab4bad",
   "execution_count": 5
  },
  {
   "cell_type": "code",
   "outputs": [],
   "source": [
    "def show_version(pkg:list):\n",
    "    for p in pkg:\n",
    "        print(f'{p.__name__} version: {p.__version__}')"
   ],
   "metadata": {
    "collapsed": false,
    "ExecuteTime": {
     "end_time": "2024-12-29T01:34:08.291524Z",
     "start_time": "2024-12-29T01:34:08.286354Z"
    }
   },
   "id": "4a47a5e06710bed6",
   "execution_count": 6
  },
  {
   "cell_type": "code",
   "outputs": [],
   "source": [],
   "metadata": {
    "collapsed": false
   },
   "id": "853cb1d335782d40"
  },
  {
   "cell_type": "code",
   "outputs": [
    {
     "name": "stdout",
     "output_type": "stream",
     "text": [
      "tensorflow version: 2.13.0\n",
      "scanpy version: 1.10.0\n",
      "anndata version: 0.10.6\n",
      "scipy version: 1.9.1\n",
      "gseapy version: 0.10.8\n",
      "networkx version: 3.0\n",
      "pandas version: 1.5.3\n",
      "numpy version: 1.24.4\n"
     ]
    }
   ],
   "source": [
    "show_version(pkg_list)"
   ],
   "metadata": {
    "collapsed": false,
    "ExecuteTime": {
     "end_time": "2024-12-29T01:34:09.722778Z",
     "start_time": "2024-12-29T01:34:09.717560Z"
    }
   },
   "id": "ffa91b6a4f1e1e6f",
   "execution_count": 7
  },
  {
   "cell_type": "code",
   "outputs": [],
   "source": [
    "#导出需要的包为requirements.txt\n",
    "def export_requirements(pkg:list, fp:str):\n",
    "    with open(fp,'w') as f:\n",
    "        for p in pkg:\n",
    "            f.write(f'{p.__name__}=={p.__version__}\\n')"
   ],
   "metadata": {
    "collapsed": false,
    "ExecuteTime": {
     "end_time": "2024-12-29T01:34:12.154441Z",
     "start_time": "2024-12-29T01:34:12.148970Z"
    }
   },
   "id": "c1780ad9689d372",
   "execution_count": 8
  },
  {
   "cell_type": "code",
   "outputs": [],
   "source": [
    "# 输出版本\n",
    "export_requirements(pkg_list, fp=\"requirements.txt\")\n"
   ],
   "metadata": {
    "collapsed": false,
    "ExecuteTime": {
     "end_time": "2024-12-29T01:34:14.154459Z",
     "start_time": "2024-12-29T01:34:14.149568Z"
    }
   },
   "id": "b2b63ed348a528aa",
   "execution_count": 9
  },
  {
   "cell_type": "code",
   "outputs": [
    {
     "ename": "SyntaxError",
     "evalue": "invalid syntax (45413042.py, line 1)",
     "output_type": "error",
     "traceback": [
      "\u001B[0;36m  Cell \u001B[0;32mIn[9], line 1\u001B[0;36m\u001B[0m\n\u001B[0;31m    import python-louvain\u001B[0m\n\u001B[0m                 ^\u001B[0m\n\u001B[0;31mSyntaxError\u001B[0m\u001B[0;31m:\u001B[0m invalid syntax\n"
     ]
    }
   ],
   "source": [
    "import python-louvain"
   ],
   "metadata": {
    "collapsed": false,
    "ExecuteTime": {
     "end_time": "2024-09-15T05:16:51.648814Z",
     "start_time": "2024-09-15T05:16:51.646645Z"
    }
   },
   "id": "4005694fc77156ab",
   "execution_count": 9
  },
  {
   "cell_type": "code",
   "outputs": [
    {
     "data": {
      "text/plain": "'0.16'"
     },
     "execution_count": 8,
     "metadata": {},
     "output_type": "execute_result"
    }
   ],
   "source": [
    "community.__version__"
   ],
   "metadata": {
    "collapsed": false,
    "ExecuteTime": {
     "end_time": "2024-09-15T05:16:36.283424Z",
     "start_time": "2024-09-15T05:16:36.280091Z"
    }
   },
   "id": "ed9463ab24995070",
   "execution_count": 8
  },
  {
   "cell_type": "code",
   "outputs": [],
   "source": [],
   "metadata": {
    "collapsed": false
   },
   "id": "e40428553f1754ca"
  },
  {
   "cell_type": "code",
   "outputs": [
    {
     "name": "stdout",
     "output_type": "stream",
     "text": [
      "Epoch 1/5\n",
      "32/32 [==============================] - 0s 499us/step - loss: 2.3188 - accuracy: 0.0930\n",
      "Epoch 2/5\n",
      "32/32 [==============================] - 0s 558us/step - loss: 2.2695 - accuracy: 0.1280\n",
      "Epoch 3/5\n",
      "32/32 [==============================] - 0s 653us/step - loss: 2.2465 - accuracy: 0.1400\n",
      "Epoch 4/5\n",
      "32/32 [==============================] - 0s 397us/step - loss: 2.2266 - accuracy: 0.1430\n",
      "Epoch 5/5\n",
      "32/32 [==============================] - 0s 4ms/step - loss: 2.2092 - accuracy: 0.1430\n",
      "Training time: 0.40673160552978516 seconds\n"
     ]
    }
   ],
   "source": [
    "import tensorflow as tf\n",
    "from tensorflow.keras import layers, models\n",
    "import time\n",
    "# 构建一个简单的全连接神经网络\n",
    "model = models.Sequential()\n",
    "model.add(layers.Dense(64, activation='relu', input_shape=(10,)))\n",
    "model.add(layers.Dense(32, activation='relu'))\n",
    "model.add(layers.Dense(10, activation='softmax'))\n",
    "# 编译模型\n",
    "model.compile(optimizer='adam', loss='sparse_categorical_crossentropy', metrics=['accuracy'])\n",
    "# 生成模拟数据\n",
    "x_train = tf.random.uniform((1000, 10))\n",
    "y_train = tf.random.uniform((1000,), minval=0, maxval=9, dtype=tf.int32)\n",
    "# 训练模型并测试GPU性能\n",
    "start_time = time.time()\n",
    "model.fit(x_train, y_train, epochs=5)\n",
    "end_time = time.time()\n",
    "print(f'Training time: {end_time - start_time} seconds')"
   ],
   "metadata": {
    "collapsed": false,
    "ExecuteTime": {
     "end_time": "2024-12-29T01:35:04.990924Z",
     "start_time": "2024-12-29T01:35:04.552088Z"
    }
   },
   "id": "7c7ed7bf05faead",
   "execution_count": 12
  },
  {
   "cell_type": "code",
   "outputs": [
    {
     "name": "stdout",
     "output_type": "stream",
     "text": [
      "False\n"
     ]
    }
   ],
   "source": [
    "import tensorflow as tf\n",
    "\n",
    "print(tf.test.is_gpu_available())"
   ],
   "metadata": {
    "collapsed": false,
    "ExecuteTime": {
     "end_time": "2024-12-29T01:35:07.968430Z",
     "start_time": "2024-12-29T01:35:07.962501Z"
    }
   },
   "id": "3f2834fce6e4c248",
   "execution_count": 13
  },
  {
   "cell_type": "code",
   "outputs": [],
   "source": [
    "import community"
   ],
   "metadata": {
    "collapsed": false,
    "ExecuteTime": {
     "end_time": "2024-12-29T01:35:11.017329Z",
     "start_time": "2024-12-29T01:35:11.000969Z"
    }
   },
   "id": "25b2ca04d84f4f81",
   "execution_count": 14
  },
  {
   "cell_type": "code",
   "outputs": [
    {
     "data": {
      "text/plain": "'0.16'"
     },
     "execution_count": 15,
     "metadata": {},
     "output_type": "execute_result"
    }
   ],
   "source": [
    "community.__version__"
   ],
   "metadata": {
    "collapsed": false,
    "ExecuteTime": {
     "end_time": "2024-12-29T01:35:12.616561Z",
     "start_time": "2024-12-29T01:35:12.608945Z"
    }
   },
   "id": "ac83e12aefb9a368",
   "execution_count": 15
  },
  {
   "cell_type": "code",
   "outputs": [],
   "source": [
    "import numpy as np\n",
    "import pandas as pd\n"
   ],
   "metadata": {
    "collapsed": false,
    "ExecuteTime": {
     "end_time": "2024-12-29T01:35:13.691021Z",
     "start_time": "2024-12-29T01:35:13.685945Z"
    }
   },
   "id": "256d18712616b2f9",
   "execution_count": 16
  },
  {
   "cell_type": "code",
   "outputs": [],
   "source": [
    "a = np.random.rand(10, 10)\n",
    "df = pd.DataFrame(a)\n",
    "df.columns = [f'col_{i}' for i in range(10)]"
   ],
   "metadata": {
    "collapsed": false,
    "ExecuteTime": {
     "end_time": "2024-12-29T01:35:15.086421Z",
     "start_time": "2024-12-29T01:35:15.070392Z"
    }
   },
   "id": "8697d164b263909f",
   "execution_count": 17
  },
  {
   "cell_type": "code",
   "outputs": [],
   "source": [],
   "metadata": {
    "collapsed": false
   },
   "id": "b2a237341219fd41"
  },
  {
   "cell_type": "code",
   "outputs": [],
   "source": [
    "output = df.to_csv(sep='\\t', index=False)"
   ],
   "metadata": {
    "collapsed": false,
    "ExecuteTime": {
     "end_time": "2024-10-23T07:54:45.375205Z",
     "start_time": "2024-10-23T07:54:45.368924Z"
    }
   },
   "id": "819c5101a61c41ea",
   "execution_count": 7
  },
  {
   "cell_type": "code",
   "outputs": [
    {
     "data": {
      "text/plain": "'0\\t1\\t2\\t3\\t4\\t5\\t6\\t7\\t8\\t9\\n0.5158813121652016\\t0.7222021989153327\\t0.1745282430542351\\t0.9730127352305896\\t0.8480867957020078\\t0.6934710278320326\\t0.5792495217188476\\t0.9405631680147033\\t0.6707840426055757\\t0.13554699518921987\\n0.3934335095419441\\t0.07169620717948222\\t0.3697578439724243\\t0.8386300962610921\\t0.32355587587669066\\t0.948442160992885\\t0.7673824342927357\\t0.5200187942011408\\t0.18655409708351\\t0.3346639065042759\\n0.4183384992972574\\t0.4600304107005697\\t0.4391846077945194\\t0.11726528441386286\\t0.9979553688494789\\t0.1307051513015428\\t0.05175735205813703\\t0.7169222894676847\\t0.45314451151416524\\t0.9709271310691892\\n0.297924579995826\\t0.17829673057448447\\t0.8667328609227384\\t0.3153646991875002\\t0.02492085308353753\\t0.8424091004735644\\t0.8807408337693267\\t0.34012179751349536\\t0.9978073017660305\\t0.4431395996609767\\n0.1698788024032014\\t0.7083810659706115\\t0.8589854164019142\\t0.2758646670061664\\t0.5968238771799294\\t0.12643650089884362\\t0.23760849232234094\\t0.6211747855525614\\t0.6793315963292615\\t0.39139966521062697\\n0.9898305520862248\\t0.6364568080436696\\t0.8772394835420531\\t0.39073426568750746\\t0.8960939359415235\\t0.536987934113925\\t0.6418429505357894\\t0.2343108480149516\\t0.8387948471336488\\t0.7988917729315556\\n0.4168912694422754\\t0.594749828019703\\t0.8618092745422299\\t0.7905658682155103\\t0.8651966477547602\\t0.9166510244012268\\t0.6686561012892338\\t0.9828089534308455\\t0.6589881167692642\\t0.7431117658861341\\n0.7421361040066244\\t0.6516762021557134\\t0.7895568922836669\\t0.6542346590795396\\t0.4262928624875788\\t0.07796294745141563\\t0.5122766868537527\\t0.941091017198595\\t0.6792375908964927\\t0.5264789536336009\\n0.2661589578756738\\t0.23643173839601783\\t0.5246091352783329\\t0.36934933127950254\\t0.3787436887173894\\t0.7655468446021544\\t0.6130281207670979\\t0.5163587548588928\\t0.5250167519099918\\t0.5406810142026416\\n0.3880443403407442\\t0.960953875078511\\t0.9819564028155033\\t0.767823385198063\\t0.9485890245806307\\t0.6612058493243572\\t0.5156423317354145\\t0.17506573551371396\\t0.38626914971558823\\t0.9217365356697811\\n'"
     },
     "execution_count": 5,
     "metadata": {},
     "output_type": "execute_result"
    }
   ],
   "source": [
    "output"
   ],
   "metadata": {
    "collapsed": false,
    "ExecuteTime": {
     "end_time": "2024-10-23T07:53:47.143837Z",
     "start_time": "2024-10-23T07:53:47.136138Z"
    }
   },
   "id": "88e8f2b464de978a",
   "execution_count": 5
  },
  {
   "cell_type": "code",
   "outputs": [],
   "source": [],
   "metadata": {
    "collapsed": false
   },
   "id": "68c40338f075cf56"
  }
 ],
 "metadata": {
  "kernelspec": {
   "display_name": "Python 3",
   "language": "python",
   "name": "python3"
  },
  "language_info": {
   "codemirror_mode": {
    "name": "ipython",
    "version": 2
   },
   "file_extension": ".py",
   "mimetype": "text/x-python",
   "name": "python",
   "nbconvert_exporter": "python",
   "pygments_lexer": "ipython2",
   "version": "2.7.6"
  }
 },
 "nbformat": 4,
 "nbformat_minor": 5
}
